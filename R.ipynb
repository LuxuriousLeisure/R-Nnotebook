{
 "cells": [
  {
   "cell_type": "markdown",
   "metadata": {},
   "source": [
    "## STRUCTURE OF R PROGRAM"
   ]
  },
  {
   "cell_type": "markdown",
   "metadata": {},
   "source": [
    "### Load Libraries & Attach Scripts (Optional)"
   ]
  },
  {
   "cell_type": "code",
   "execution_count": null,
   "metadata": {
    "vscode": {
     "languageId": "r"
    }
   },
   "outputs": [],
   "source": [
    "#Load libraries\n",
    "library(ggplot2)\n",
    "library(reshape)\n",
    "library(vegan)"
   ]
  },
  {
   "cell_type": "markdown",
   "metadata": {},
   "source": [
    "### Define User Functions"
   ]
  },
  {
   "cell_type": "code",
   "execution_count": null,
   "metadata": {
    "vscode": {
     "languageId": "r"
    }
   },
   "outputs": [],
   "source": [
    "#Define User functions\n",
    "clean <-function(dat) {\n",
    "# ...\n",
    "}"
   ]
  },
  {
   "cell_type": "markdown",
   "metadata": {},
   "source": [
    "### Main Code\n",
    "        1. Read Data\n",
    "        2. Analyze Data with R Functions\n",
    "        3. Output Data"
   ]
  },
  {
   "cell_type": "code",
   "execution_count": null,
   "metadata": {
    "vscode": {
     "languageId": "r"
    }
   },
   "outputs": [],
   "source": [
    "# Main Code\n",
    "input_file <-\"data/data.csv\" \n",
    "output_file <-\"data/results.csv\"\n",
    "input_data <-read.csv(input_file)\n",
    "\n",
    "results <-some_other_function(input_file)\n",
    "\n",
    "write.table(results, output_file)"
   ]
  },
  {
   "cell_type": "markdown",
   "metadata": {},
   "source": [
    "### Comments\n",
    "    R does not support multi-line comment."
   ]
  },
  {
   "cell_type": "markdown",
   "metadata": {},
   "source": [
    "## BASIC R OPERATIONS"
   ]
  },
  {
   "cell_type": "markdown",
   "metadata": {},
   "source": [
    "### Variable Types\n",
    "\n",
    "- **Numeric** --- Used to store floating-point values  \n",
    "- **Boolean** --- Represents values as either `True` or `False`  \n",
    "- **Strings** --- Sequences of characters\n",
    "- **Complex** --- Used to store complex values (eg 2+3i)"
   ]
  },
  {
   "cell_type": "markdown",
   "metadata": {},
   "source": [
    "### Assigning Variables in R\n",
    "\n",
    "> **Left Assignment**  \n",
    ">   `<-`  \n",
    ">   `=`  \n",
    ">   `<<-`  \n",
    "\n",
    "> **Right Assignment**  \n",
    ">   `->`  \n",
    ">   `->>`"
   ]
  },
  {
   "cell_type": "markdown",
   "metadata": {},
   "source": [
    "### Standard input/output (I/O) & Data Type Transform\n",
    "\n",
    "| Function         | Description                                      | Example                                   |\n",
    "|------------------|--------------------------------------------------|------------------------------------------|\n",
    "| `readline()`     | Reads input from the console (default: character). | ```r a <- readline('Enter age: ') ```    |\n",
    "| `as.character()` | Converts input into a character type.            | ```r b <- as.character(a) ```            |\n",
    "| `as.integer()`   | Converts input into an integer type.             | ```r b <- as.integer(a) ```              |\n",
    "| `print()`        | Prints the input string to the screen.           | ```r print(b) ```                        |\n",
    "| `paste()`        | Joins strings together, adding a space between them. | ```r paste(\"My age is\", a) ```           |\n",
    "| `paste0()`       | Joins strings together without adding a space.   | ```r paste0(\"My age is\", a) ```          |"
   ]
  },
  {
   "cell_type": "code",
   "execution_count": null,
   "metadata": {
    "vscode": {
     "languageId": "r"
    }
   },
   "outputs": [],
   "source": [
    "# Read input from the console\n",
    "a <- readline('Enter age: ')\n",
    "\n",
    "# Convert input to character\n",
    "b <- as.character(a)\n",
    "print(paste(\"Character format:\", b))\n",
    "\n",
    "# Convert input to integer\n",
    "b <- as.integer(a)\n",
    "print(paste(\"Integer format:\", b))\n",
    "\n",
    "# Use paste() to join strings\n",
    "message <- paste(\"My age is\", a)\n",
    "print(message)\n",
    "\n",
    "# Use paste0() to join strings without space\n",
    "message_no_space <- paste0(\"My age is\", a)\n",
    "print(message_no_space)"
   ]
  },
  {
   "cell_type": "markdown",
   "metadata": {},
   "source": [
    "### Basic Text Operation\n",
    "| Function      | Description                                           | Example                               |\n",
    "|---------------|-------------------------------------------------------|---------------------------------------|\n",
    "| `paste(a, b, sep='', collapse='')`  | Join strings `a` and `b` with separator `sep`, or collapse with `collapse` | `paste(\"Hello\", \"World\", sep=\" \")`  |\n",
    "| `paste0(a, b)` | Join strings `a` and `b` without any space between them | `paste0(\"Hello\", \"World\")`          |\n",
    "| `nchar(x)`     | Count the number of characters in string `x`          | `nchar(\"Hello\")` -> `5`              |\n",
    "| `toupper(x)`   | Convert string `x` to uppercase                      | `toupper(\"hello\")` -> `\"HELLO\"`      |\n",
    "| `tolower(x)`   | Convert string `x` to lowercase                      | `tolower(\"HELLO\")` -> `\"hello\"`      |\n"
   ]
  },
  {
   "cell_type": "code",
   "execution_count": null,
   "metadata": {
    "vscode": {
     "languageId": "r"
    }
   },
   "outputs": [],
   "source": [
    "# Example 1: Using paste with sep and collapse\n",
    "a <- \"Hello\"\n",
    "b <- \"World\"\n",
    "# sep inserts a space between the strings\n",
    "result1 <- paste(a, b, sep=\" \")\n",
    "print(result1)  # Output: \"Hello World\"\n",
    "\n",
    "# Using collapse with a vector of strings\n",
    "words <- c(\"Hello\", \"World\", \"R\")\n",
    "# collapse combines all elements with \"|\"\n",
    "result2 <- paste(words, collapse=\"|\")\n",
    "print(result2)  # Output: \"Hello|World|R\""
   ]
  },
  {
   "cell_type": "code",
   "execution_count": null,
   "metadata": {
    "vscode": {
     "languageId": "r"
    }
   },
   "outputs": [],
   "source": [
    "# Example 2: Using paste0 (no separator)\n",
    "# paste0 joins strings without any separator\n",
    "result3 <- paste0(a, b)\n",
    "print(result3)  # Output: \"HelloWorld\""
   ]
  },
  {
   "cell_type": "code",
   "execution_count": null,
   "metadata": {
    "vscode": {
     "languageId": "r"
    }
   },
   "outputs": [],
   "source": [
    "# Example 3: nchar counts the number of characters\n",
    "length1 <- nchar(result1)\n",
    "print(length1)  # Output: 11 (because \"Hello World\" has 11 characters)"
   ]
  },
  {
   "cell_type": "code",
   "execution_count": null,
   "metadata": {
    "vscode": {
     "languageId": "r"
    }
   },
   "outputs": [],
   "source": [
    "# Example 4: toupper converts to uppercase\n",
    "upper_case <- toupper(a)\n",
    "print(upper_case)  # Output: \"HELLO\"\n",
    "\n",
    "# Example 5: tolower converts to lowercase\n",
    "lower_case <- tolower(b)\n",
    "print(lower_case)  # Output: \"world\""
   ]
  },
  {
   "cell_type": "markdown",
   "metadata": {},
   "source": [
    "### Basic Arithmetic Operation\n",
    "- Basic \n",
    "- Logarithm 对数 & Exponential 指数\n",
    "- Max & Min & Round & Sum\n",
    ">\n",
    "- Numeric Vectors"
   ]
  },
  {
   "cell_type": "markdown",
   "metadata": {},
   "source": [
    "#### Basic\n",
    "\n",
    "| Operator | Description                  | Example                     | Output               |\n",
    "|----------|------------------------------|-----------------------------|----------------------|\n",
    "| `+`      | Addition.                   | `5 + 3`                     | `8`                  |\n",
    "| `-`      | Subtraction.                | `5 - 3`                     | `2`                  |\n",
    "| `*`      | Multiplication.             | `5 * 3`                     | `15`                 |\n",
    "| `/`      | Division.                   | `5 / 2`                     | `2.5`                |\n",
    "| `%%`     | Remainder (modulus).        | `5 %% 3`                    | `2`                  |\n",
    "| `%/%`    | Quotient (integer division).| `5 %/% 3`                   | `1`                  |\n",
    "| `^`      | Exponentiation.             | `5 ^ 3`                     | `125`                |\n",
    "| `:`      | Creates a series.           | `2:8`                       | `2 3 4 5 6 7 8`      |"
   ]
  },
  {
   "cell_type": "markdown",
   "metadata": {},
   "source": [
    "#### Logarithm 对数 & Exponential 指数\n",
    "\n",
    "\n",
    "| Function       | Description                          | Example                     | Output               |\n",
    "|----------------|--------------------------------------|-----------------------------|----------------------|\n",
    "| **`log()`**        | Natural logarithm (base *e*).        | `log(10)`                   | `2.302585`           |\n",
    "| **`log10()`**      | Base-10 logarithm.                  | `log10(100)`                | `2`                  |\n",
    "| `log2()`       | Base-2 logarithm.                   | `log2(8)`                   | `3`                  |\n",
    "| `log(x, base)` | Logarithm with custom base.         | `log(8, base = 2)`          | `3`                  |\n",
    "| **`exp()`**        | Exponential function (*e^x*).       | `exp(2)`                    | `7.389056`           |"
   ]
  },
  {
   "cell_type": "markdown",
   "metadata": {},
   "source": [
    "#### Max & Min & Round & Sum\n",
    "\n",
    "Below is a table summarizing common R functions for maximum, minimum, rounding, and summation, their usage, examples, and expected outputs:\n",
    "\n",
    "| Function       | Description                          | Example                     | Output               |\n",
    "|----------------|--------------------------------------|-----------------------------|----------------------|\n",
    "| `max()`        | Returns the maximum value.           | `max(1, 5, 3, 9)`           | `9`                  |\n",
    "| `min()`        | Returns the minimum value.           | `min(1, 5, 3, 9)`           | `1`                  |\n",
    "| `round()`      | Rounds a number to the nearest integer or specified decimal places. | `round(3.14159, 2)`         | `3.14`               |\n",
    "| `signif()`     | Rounds a number to the specified significant digits. | `signif(3.14159, 3)`        | `3.14`               |\n",
    "| `sum()`        | Returns the sum of all values.       | `sum(1, 2, 3, 4)`           | `10`                 |"
   ]
  },
  {
   "cell_type": "code",
   "execution_count": null,
   "metadata": {
    "vscode": {
     "languageId": "r"
    }
   },
   "outputs": [],
   "source": [
    "max(1,2,3) # 3\n",
    "min(1,2,3) # 1\n",
    "\n",
    "max(c(1,2,3)) # 3\n",
    "min(c(1,2,3)) # 1\n",
    "\n",
    "round(pi) # 3\n",
    "round(3.14) # 3\n",
    "round(pi,2) # 3.14 --> 保留两位小数\n",
    "\n",
    "signif(pi,2) # 3.1 --> 两位有效数字\n",
    "signif(pi,3) # 3.14 --> 三位有效数字"
   ]
  },
  {
   "cell_type": "markdown",
   "metadata": {},
   "source": [
    "> ---"
   ]
  },
  {
   "cell_type": "markdown",
   "metadata": {},
   "source": [
    "#### Numeric Vectors\n"
   ]
  },
  {
   "cell_type": "code",
   "execution_count": null,
   "metadata": {
    "vscode": {
     "languageId": "r"
    }
   },
   "outputs": [],
   "source": [
    "#Creat Vector\n",
    "a <- c(1,2,3,4)\n",
    "#[1] 1 2 3 4\n",
    "\n",
    "#Addition\n",
    "a + 2\n",
    "#[1] 3 4 5 6\n",
    "\n",
    "#Subtraction\n",
    "a - 2\n",
    "#[1] -1  0  1  2\n",
    "\n",
    "#Multiplication\n",
    "a * 2\n",
    "#[1] 2 4 6 8\n",
    "\n",
    "#Division\n",
    "a / 2\n",
    "#[1] 0.5 1.0 1.5 2.0\n",
    "\n",
    "#Exponentiation\n",
    "a ^ 2\n",
    "#[1] 1 4 9 16\n",
    "\n",
    "#Modulo\n",
    "a %% 2\n",
    "#[1] 1 0 1 0\n",
    "\n",
    "#Integer Division\n",
    "a %/% 2\n",
    "#[1] 0 1 1 2\n",
    "\n",
    "#Logical Operators\n",
    "a > 2\n",
    "#[1] FALSE FALSE  TRUE  TRUE\n",
    "\n",
    "# ...\n"
   ]
  }
 ],
 "metadata": {
  "kernelspec": {
   "display_name": "R",
   "language": "R",
   "name": "ir"
  },
  "language_info": {
   "codemirror_mode": "r",
   "file_extension": ".r",
   "mimetype": "text/x-r-source",
   "name": "R",
   "pygments_lexer": "r",
   "version": "4.4.2"
  }
 },
 "nbformat": 4,
 "nbformat_minor": 2
}
